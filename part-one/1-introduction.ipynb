{
 "cells": [
  {
   "cell_type": "markdown",
   "metadata": {},
   "source": [
    "# Algorithms Illuminated Part 1: The Basics"
   ]
  },
  {
   "cell_type": "markdown",
   "metadata": {},
   "source": [
    "These are notes for the first book in the series \"Algorithms Illuminated\" by Tim Roughgarden"
   ]
  },
  {
   "cell_type": "markdown",
   "metadata": {},
   "source": [
    "## Karatsuba Multiplication\n",
    "\n",
    "Let's find a new way to find the product of two numbers, in a more efficient way.\n",
    "\n",
    "Take two numbers, x and y"
   ]
  },
  {
   "cell_type": "code",
   "execution_count": 34,
   "metadata": {},
   "outputs": [],
   "source": [
    "x = 5677\n",
    "y = 1233"
   ]
  },
  {
   "cell_type": "code",
   "execution_count": 35,
   "metadata": {
    "scrolled": true
   },
   "outputs": [
    {
     "data": {
      "text/plain": [
       "6999741"
      ]
     },
     "execution_count": 35,
     "metadata": {},
     "output_type": "execute_result"
    }
   ],
   "source": [
    "x * y"
   ]
  },
  {
   "cell_type": "markdown",
   "metadata": {},
   "source": [
    "### Let's break down how karatsuba works:"
   ]
  },
  {
   "cell_type": "markdown",
   "metadata": {},
   "source": [
    "Step one:    a * c            = 672\n",
    "Step two:    b * d            = 2652\n",
    "Step three:  (a + b) (c + d)  = 134 * 46 = 6164\n",
    "Step four: subtract each decending product =  6164 - 2652 - 672"
   ]
  },
  {
   "cell_type": "code",
   "execution_count": 84,
   "metadata": {},
   "outputs": [],
   "source": [
    "# let's break those up into a, b, c, d pairs\n",
    "\n",
    "a = 56\n",
    "b = 77\n",
    "c = 12\n",
    "d = 33"
   ]
  },
  {
   "cell_type": "code",
   "execution_count": 85,
   "metadata": {},
   "outputs": [
    {
     "name": "stdout",
     "output_type": "stream",
     "text": [
      "672\n",
      "2541\n",
      "5985\n",
      "2772\n"
     ]
    }
   ],
   "source": [
    "step_one = a * c\n",
    "\n",
    "step_two = b * d\n",
    "\n",
    "step_three = (a + b) * (c + d)\n",
    "\n",
    "step_four = step_three - step_two - step_one\n",
    "\n",
    "print(step_one)\n",
    "print(step_two)\n",
    "print(step_three)\n",
    "print(step_four)\n"
   ]
  },
  {
   "cell_type": "code",
   "execution_count": 86,
   "metadata": {},
   "outputs": [
    {
     "name": "stdout",
     "output_type": "stream",
     "text": [
      "6720000\n",
      "277200\n",
      "6999741\n"
     ]
    }
   ],
   "source": [
    "step_one = int(str(step_one) + '0000')\n",
    "step_four = int(str(step_four) + '00')\n",
    "step_five = step_one + step_two + step_four\n",
    "print(step_one)\n",
    "print(step_four)\n",
    "print(step_five)"
   ]
  },
  {
   "cell_type": "markdown",
   "metadata": {},
   "source": [
    "## Now let's use a recursive implementation of karatsuba"
   ]
  },
  {
   "cell_type": "code",
   "execution_count": 96,
   "metadata": {},
   "outputs": [],
   "source": [
    "def karatsuba(x, y):\n",
    "    print('karatsuba excuted')\n",
    "    if len(str(x)) == 1 or len(str(y)) == 1:\n",
    "        return x * y\n",
    "    else:    \n",
    "        n_digits = max(len(str(x)), len(str(y)))\n",
    "        print('n_digits')\n",
    "        print(n_digits)\n",
    "        n_by_2 = int(n_digits / 2)\n",
    "        print('n_by_2')\n",
    "        print(n_by_2)\n",
    "\n",
    "        a = int(x / 10**(n_by_2))\n",
    "        print('a')\n",
    "        print(a)\n",
    "        b = int(x % 10**(n_by_2))\n",
    "        print('b')\n",
    "        print(b)\n",
    "        c = int(y / 10**(n_by_2))\n",
    "        print('c')\n",
    "        print(c)\n",
    "        d = int(y % 10**(n_by_2))\n",
    "        print('d')\n",
    "        print(d)\n",
    "\n",
    "        ac = karatsuba(a, c)\n",
    "        print('ac')\n",
    "        print(ac)\n",
    "        bd = karatsuba(b, d)\n",
    "        print('bd')\n",
    "        print(bd)\n",
    "\n",
    "        ad_plus_bc = karatsuba(a + b, c + d) - bd - ac\n",
    "        prod = ac * 10**(2*n_by_2) + (ad_plus_bc * 10**n_by_2) + bd\n",
    "\n",
    "        return prod\n"
   ]
  },
  {
   "cell_type": "code",
   "execution_count": 97,
   "metadata": {},
   "outputs": [
    {
     "name": "stdout",
     "output_type": "stream",
     "text": [
      "karatsuba excuted\n",
      "n_digits\n",
      "4\n",
      "n_by_2\n",
      "2\n",
      "a\n",
      "56\n",
      "b\n",
      "78\n",
      "c\n",
      "12\n",
      "d\n",
      "34\n",
      "karatsuba excuted\n",
      "n_digits\n",
      "2\n",
      "n_by_2\n",
      "1\n",
      "a\n",
      "5\n",
      "b\n",
      "6\n",
      "c\n",
      "1\n",
      "d\n",
      "2\n",
      "karatsuba excuted\n",
      "ac\n",
      "5\n",
      "karatsuba excuted\n",
      "bd\n",
      "12\n",
      "karatsuba excuted\n",
      "ac\n",
      "672\n",
      "karatsuba excuted\n",
      "n_digits\n",
      "2\n",
      "n_by_2\n",
      "1\n",
      "a\n",
      "7\n",
      "b\n",
      "8\n",
      "c\n",
      "3\n",
      "d\n",
      "4\n",
      "karatsuba excuted\n",
      "ac\n",
      "21\n",
      "karatsuba excuted\n",
      "bd\n",
      "32\n",
      "karatsuba excuted\n",
      "bd\n",
      "2652\n",
      "karatsuba excuted\n",
      "n_digits\n",
      "3\n",
      "n_by_2\n",
      "1\n",
      "a\n",
      "13\n",
      "b\n",
      "4\n",
      "c\n",
      "4\n",
      "d\n",
      "6\n",
      "karatsuba excuted\n",
      "ac\n",
      "52\n",
      "karatsuba excuted\n",
      "bd\n",
      "24\n",
      "karatsuba excuted\n",
      "n_digits\n",
      "2\n",
      "n_by_2\n",
      "1\n",
      "a\n",
      "1\n",
      "b\n",
      "7\n",
      "c\n",
      "1\n",
      "d\n",
      "0\n",
      "karatsuba excuted\n",
      "ac\n",
      "1\n",
      "karatsuba excuted\n",
      "bd\n",
      "0\n",
      "karatsuba excuted\n",
      "7006652\n"
     ]
    }
   ],
   "source": [
    "print(karatsuba(5678, 1234))"
   ]
  }
 ],
 "metadata": {
  "kernelspec": {
   "display_name": "Python 3",
   "language": "python",
   "name": "python3"
  },
  "language_info": {
   "codemirror_mode": {
    "name": "ipython",
    "version": 3
   },
   "file_extension": ".py",
   "mimetype": "text/x-python",
   "name": "python",
   "nbconvert_exporter": "python",
   "pygments_lexer": "ipython3",
   "version": "3.8.4"
  }
 },
 "nbformat": 4,
 "nbformat_minor": 4
}
